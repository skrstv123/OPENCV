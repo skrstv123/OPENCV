{
 "cells": [
  {
   "cell_type": "code",
   "execution_count": 3,
   "metadata": {},
   "outputs": [],
   "source": [
    "# Import Libraries\n",
    "import cv2\n",
    "import numpy as np\n",
    "\n",
    "\n",
    "# Variables\n",
    "# TRUE when the mouse button is DOWN\n",
    "# FALSE when the mouse button is UP\n",
    "drawing = False\n",
    "ex=ey=-1\n",
    "\n",
    "# Function\n",
    "# x,y, flags, param are feed from OpenCV automaticaly\n",
    "def draw_rectangle(event, x,y, flags,params):\n",
    "    global ex,ey,drawing\n",
    "    if event==cv2.EVENT_LBUTTONDOWN:\n",
    "        drawing=True\n",
    "        ex,ey=x,y\n",
    "    elif event==cv2.EVENT_MOUSEMOVE:\n",
    "        if drawing:\n",
    "            cv2.rectangle(img,\n",
    "                      \n",
    "                     (ex,ey),\n",
    "                     (x,y,),\n",
    "                     (255,255,255),\n",
    "                     -1)\n",
    "    elif event==cv2.EVENT_LBUTTONUP:\n",
    "        drawing = False\n",
    "        cv2.rectangle(img,\n",
    "                      \n",
    "                     (ex,ey),\n",
    "                     (x,y,),\n",
    "                     (255,255,255),\n",
    "                     -1)\n",
    "\n",
    "\n",
    "\n",
    "# Connect the Function with the Callback\n",
    "\n",
    "cv2.namedWindow(winname='exe')\n",
    "\n",
    "# Callback\n",
    "cv2.setMouseCallback('exe',draw_rectangle)\n",
    "\n",
    "# Using OpenCV to show the Image\n",
    "img = np.zeros((512,512,3),np.int8)\n",
    "while True:\n",
    "    cv2.imshow('exe',img)\n",
    "    if cv2.waitKey(5) & 0xFF==ord('q'):break\n",
    "cv2.destroyAllWindows()\n",
    "\n",
    "\n"
   ]
  },
  {
   "cell_type": "code",
   "execution_count": null,
   "metadata": {},
   "outputs": [],
   "source": []
  }
 ],
 "metadata": {
  "kernelspec": {
   "display_name": "Python 3",
   "language": "python",
   "name": "python3"
  },
  "language_info": {
   "codemirror_mode": {
    "name": "ipython",
    "version": 3
   },
   "file_extension": ".py",
   "mimetype": "text/x-python",
   "name": "python",
   "nbconvert_exporter": "python",
   "pygments_lexer": "ipython3",
   "version": "3.7.4"
  }
 },
 "nbformat": 4,
 "nbformat_minor": 4
}
